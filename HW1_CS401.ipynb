{
  "nbformat": 4,
  "nbformat_minor": 0,
  "metadata": {
    "colab": {
      "provenance": []
    },
    "kernelspec": {
      "name": "python3",
      "display_name": "Python 3"
    },
    "language_info": {
      "name": "python"
    }
  },
  "cells": [
    {
      "cell_type": "code",
      "source": [
        "# Function to decrypt\n",
        "def decrypt_mapping(ciphertext, mapping):\n",
        "    return ''.join(mapping.get(char, char) for char in ciphertext)\n",
        "\n",
        "# Reading the ciphertext file\n",
        "with open(\"zciphertext.txt\", 'r') as file:\n",
        "    ciphertext = file.read()\n",
        "\n",
        "# Final mapping\n",
        "final_mapping = {\n",
        "    'a': 'c',\n",
        "    'b': 'a',\n",
        "    'c': 'e',\n",
        "    'e': 't',\n",
        "    'f': 'f',\n",
        "    'g': 'l',\n",
        "    'h': 'm',\n",
        "    'i': 'i',\n",
        "    'j': 'w',\n",
        "    'k': 'd',\n",
        "    'l': 'g',\n",
        "    'm': 'p',\n",
        "    'n': 'u',\n",
        "    'o': 'v',\n",
        "    'p': 'k',\n",
        "    'q': 's',\n",
        "    'r': 'p',\n",
        "    's': 'i',\n",
        "    't': 'w',\n",
        "    'u': 'm',\n",
        "    'v': 'r',\n",
        "    'w': 'v',\n",
        "    'x': 'h',\n",
        "    'y': 'n',\n",
        "    'z': 'q',\n",
        "}\n",
        "\n",
        "# Decrypting the entire ciphertext\n",
        "final_decrypted_text = decrypt_mapping(ciphertext, final_mapping)\n",
        "\n",
        "print(final_decrypted_text)"
      ],
      "metadata": {
        "colab": {
          "base_uri": "https://localhost:8080/"
        },
        "id": "_CftAg82aDqe",
        "outputId": "d660b8a0-5024-46ef-e7a3-78ee2265fc57"
      },
      "execution_count": 4,
      "outputs": [
        {
          "output_type": "stream",
          "name": "stdout",
          "text": [
            "intevnet wmting, alsm pnmdn as mnline wmting, vefevs tm the pvmmess mf\n",
            "masting a wmte wsing the intevnet mv mthev elemtvmnim ueans.\n",
            "theve ave seweval akwantages ank kisakwantages tm intevnet wmting dhen\n",
            "mmupavek tm tvakitimnal, in-pevsmn wmting uethmks.\n",
            "\n",
            "akwantages mf intevnet wmting inmlwke:\n",
            "\n",
            "inmveasek ammessidilitv: intevnet wmting allmds inkiwikwals dhm ave wnadle\n",
            "tm phvsimallv gm tm pmlling statimns, swmh as inkiwikwals dith kisadilities\n",
            "mv thmse liwing in veumte aveas, tm wmte umve easilv.\n",
            "\n",
            "mmnwenienme: intevnet wmting allmds inkiwikwals tm wmte fvmu anv lmmatimn\n",
            "dith an intevnet mmnnemtimn, vathev than veqwiving theu tm gm tm a\n",
            "spemifim pmlling statimn.\n",
            "\n",
            "inmveasek wmtev twvnmwt: intevnet wmting has the pmtential tm inmvease\n",
            "wmtev twvnmwt, as it is umve mmnwenient fmv uanv pemple.\n",
            "\n",
            "fastev wmte mmwnting: elemtvmnim wmting svsteus man mmwnt wmtes umve\n",
            "qwimplv than tvakitimnal, uanwal uethmks.\n",
            "\n",
            "lmdev mmst: intevnet wmting man de less erpensiwe than tvakitimnal wmting\n",
            "uethmks, as it eliuinates the neek fmv pmlling statimns ank papev dallmts.\n",
            "\n",
            "kisakwantages mf intevnet wmting inmlwke:\n",
            "\n",
            "semwvitv mmnmevns: intevnet wmting svsteus ave wwlnevadle tm hamping ank\n",
            "mthev fmvus mf mvdev-attamps, dhimh man mmupvmuise the integvitv mf the\n",
            "wmting pvmmess.\n",
            "\n",
            "lamp mf tvanspavenmv: elemtvmnim wmting svsteus man uape it umve kiffimwlt\n",
            "tm ketemt ank pvewent fvawk mv evvmvs, mmupavek tm tvakitimnal wmting uethmks.\n",
            "\n",
            "kepenkenme mn temhnmlmgv: intevnet wmting velies mn the awailadilitv ank\n",
            "pvmpev fwnmtimning mf temhnmlmgv, dhimh man de kisvwptek dv pmdev mwtages,\n",
            "intevnet mmnnemtimn isswes, mv mthev pvmdleus.\n",
            "\n",
            "wmtev kisenfvanmhiseuent: intevnet wmting svsteus uav nmt de ammessidle tm\n",
            "all inkiwikwals, inmlwking thmse dhm lamp intevnet ammess mv temhnimal spills.\n",
            "\n",
            "lamp mf wevifiadilitv: elemtvmnim wmting svsteus lamp the saue lewel mf\n",
            "wevifiadilitv mf papev dallmts, dhimh allmds fmv uanwal mmwnts ank awkits.\n",
            "\n",
            "in swuuavv, intevnet wmting has the pmtential tm inmvease ammessidilitv ank\n",
            "mmnwenienme, dwt it alsm pmses signifimant semwvitv visps ank lamp mf\n",
            "tvanspavenmv.\n",
            "thevefmve, uanv mmwntvies ave still testing ank erpeviuenting dith\n",
            "intevnet wmting uethmks dhile enswving the semwvitv ank integvitv mf\n",
            "the wmting pvmmess.\n",
            "\n",
            "\n",
            "\n",
            "\n"
          ]
        }
      ]
    }
  ]
}